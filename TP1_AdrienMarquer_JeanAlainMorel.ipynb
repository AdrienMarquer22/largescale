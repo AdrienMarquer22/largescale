{
 "cells": [
  {
   "attachments": {},
   "cell_type": "markdown",
   "metadata": {},
   "source": [
    "# SVM with kernel approximation\n",
    "\n",
    "During this pratical session your goal is to implement two approaches to approximate a Gaussian kernel SVM problem by means of a low-rank approximation of the kernel. These approximations enable to the apply Gaussian SVM problem  to large-scale problems.\n",
    "\n",
    "The practical session is composed of the following steps : \n",
    "\n",
    "A) Start by defining some useful functions and load the data.  \n",
    "B) Observe the impact of the size of the training data set on the classification accuracy, the learning and testing times for Gaussian-kernel and linear-kernel SVMs.  \n",
    "C) Implement two approaches to approximate the Gaussian kernel (\"Nyström\" and \"Rahimi-Recht\") and compare the quality of the approximations as a function of the dimension of the new low-rank representations.  \n",
    "D) Observe the impact of the dimension of the new representations on the classification accuracy  and the learning/testing times. \n",
    "\n",
    "Your work is tagged in the document by the keyword `TODO`.\n",
    "\n",
    "## To upload\n",
    "> `TODO`  \n",
    "> You have to upload on Moodle an HTML export of the notebook which includes the output of cells.\n",
    "> This submission is done once per group of two students working together.\n",
    "> The deadline for the submission is **on Friday February 10th, at 7pm**.\n",
    "> (The answer to questions may be written in french)\n",
    "\n",
    "> `TODO`  Write hereafter the first name and NAME of both students\n",
    ">\n",
    "> * Adrien Marquer\n",
    "> * Jean Alain Morel"
   ]
  },
  {
   "cell_type": "markdown",
   "metadata": {},
   "source": [
    "# A. Definitions and data loading\n",
    "## A.1 Module loading"
   ]
  },
  {
   "cell_type": "code",
   "execution_count": 1,
   "metadata": {},
   "outputs": [],
   "source": [
    "# Standard scientific Python imports\n",
    "import matplotlib.pyplot as plt\n",
    "import numpy as np\n",
    "from scipy.stats import describe\n",
    "from time import time\n",
    "\n",
    "# Import datasets, classifiers and performance metrics\n",
    "from sklearn.datasets import fetch_openml\n",
    "from sklearn.model_selection import train_test_split\n",
    "from sklearn.preprocessing import StandardScaler\n",
    "from sklearn import svm\n",
    "from sklearn.pipeline import Pipeline\n",
    "from sklearn.linear_model import SGDClassifier\n",
    "from sklearn.kernel_approximation import (RBFSampler,\n",
    "                                          Nystroem)\n",
    "from sklearn.metrics.pairwise import rbf_kernel\n",
    "from sklearn.decomposition import PCA\n",
    "\n",
    "from sklearn.base import BaseEstimator\n",
    "from sklearn.base import TransformerMixin"
   ]
  },
  {
   "cell_type": "markdown",
   "metadata": {
    "jupyter": {
     "outputs_hidden": false
    }
   },
   "source": [
    "## A.2 Definition of some useful functions\n",
    "To compile but not to understand at this point (You may come back on this later on when these functions are called to understand precisely what is done). "
   ]
  },
  {
   "cell_type": "code",
   "execution_count": 2,
   "metadata": {},
   "outputs": [],
   "source": [
    "def test_classifier(model, nb_train):\n",
    "    t = time()\n",
    "    model.fit(data_train[:nb_train], targets_train[:nb_train])\n",
    "    t = time() - t\n",
    "    print(f'------ nb_train : {nb_train} ------')\n",
    "    print(f'learning time: {t:{4}.{2}}s')\n",
    "    \n",
    "    t = time()\n",
    "    score = model.score(data_test, targets_test) \n",
    "    t = time() - t\n",
    "    print(f'testing time:  {t:{4}.{2}}s')\n",
    "    print(f'accuracy: {score}\\n')"
   ]
  },
  {
   "cell_type": "code",
   "execution_count": 3,
   "metadata": {},
   "outputs": [],
   "source": [
    "def run_exp_nbex(nb_train_list, algs, labels):\n",
    "    \n",
    "    all_scores = []\n",
    "    all_learn_times = []\n",
    "    all_tests_times = []\n",
    "    \n",
    "    for alg in algs:\n",
    "        scores = []\n",
    "        learn_times = []\n",
    "        tests_times = []        \n",
    "        for nb_train in nb_train_list:\n",
    "            t = time()\n",
    "            alg.fit(data_train[:nb_train], targets_train[:nb_train])\n",
    "            t = time() - t\n",
    "            learn_times.append(t)\n",
    "            \n",
    "            t = time()\n",
    "            scores.append(alg.score(data_test, targets_test))\n",
    "            t = time() - t\n",
    "            tests_times.append(t)\n",
    "            \n",
    "        all_scores.append(scores)\n",
    "        all_learn_times.append(learn_times)\n",
    "        all_tests_times.append(tests_times)        \n",
    "    \n",
    "    plt.figure(figsize=(16, 8))\n",
    "    # --- accuracy = f(nb examples)\n",
    "    plt.subplot(221)\n",
    "    for i in range(len(algs)):\n",
    "        plt.plot(nb_train_list, all_scores[i], label=labels[i])\n",
    "    plt.legend()\n",
    "    plt.grid()\n",
    "    plt.xlabel('nb samples')\n",
    "    plt.ylabel('classification accuracy')\n",
    "    \n",
    "    # --- accuracy = f(learning time)\n",
    "    plt.subplot(222)\n",
    "    for i in range(len(algs)):\n",
    "        plt.plot(all_learn_times[i], all_scores[i], label=labels[i])\n",
    "    plt.legend()\n",
    "    plt.grid()\n",
    "    plt.xlabel('learning time')\n",
    "    plt.ylabel('classification accuracy')\n",
    "    \n",
    "    # --- test time = f(nb examples)\n",
    "    plt.subplot(223)\n",
    "    for i in range(len(algs)):\n",
    "        plt.plot(nb_train_list, all_tests_times[i], label=labels[i])\n",
    "    plt.legend()\n",
    "    plt.grid()\n",
    "    plt.xlabel('nb samples')\n",
    "    plt.ylabel('test time')    \n",
    "    \n",
    "    # --- learning time = f(nb examples)\n",
    "    plt.subplot(224)\n",
    "    for i in range(len(algs)):\n",
    "        plt.plot(nb_train_list, all_learn_times[i], label=labels[i])\n",
    "    plt.legend()\n",
    "    plt.grid()\n",
    "    plt.xlabel('nb samples')\n",
    "    plt.ylabel('learning time')"
   ]
  },
  {
   "cell_type": "code",
   "execution_count": 4,
   "metadata": {},
   "outputs": [],
   "source": [
    "def run_exp_approx(data_train, approx_sizes, algs, labels):\n",
    "    \n",
    "    reference_kernel = rbf_kernel(data_train, gamma=0.001)\n",
    "    all_scores = []\n",
    "    \n",
    "    for alg in algs:\n",
    "        scores = []\n",
    "        for approx_size in approx_sizes:\n",
    "            if not isinstance(alg, Nystroem) or approx_size <= data_train.shape[0]:\n",
    "                alg.set_params(n_components=approx_size)\n",
    "                data_transformed = alg.fit_transform(data_train)\n",
    "                scores.append(np.linalg.norm(reference_kernel - data_transformed @ data_transformed.transpose()))\n",
    "        all_scores.append(scores)\n",
    "\n",
    "        \n",
    "    plt.figure(figsize=(16, 4))\n",
    "    # --- approximation error = f(nb features)\n",
    "    plt.subplot(221)\n",
    "    for i in range(len(algs)):\n",
    "        plt.plot(approx_sizes[:len(all_scores[i])], all_scores[i], label=labels[i])\n",
    "    plt.axvline(x=data_train.shape[0], color='black', linestyle=':', label='Nyström limit')\n",
    "    plt.legend()\n",
    "    plt.grid()\n",
    "    plt.xscale('log')\n",
    "    plt.xlabel('nb components')\n",
    "    plt.ylabel('$||K - \\\\tilde X\\\\tilde X^t||_2$')\n",
    "\n",
    "    plt.subplot(222)\n",
    "    for i in range(len(algs)):\n",
    "        plt.plot(approx_sizes[:len(all_scores[i])], all_scores[i], label=labels[i])\n",
    "    plt.axvline(x=data_train.shape[0], color='black', linestyle=':', label='Nyström limit')\n",
    "    plt.legend()\n",
    "    plt.grid()\n",
    "    plt.xscale('log')\n",
    "    plt.yscale('log')\n",
    "    plt.xlabel('nb components')\n",
    "    plt.ylabel('$||K - \\\\tilde X\\\\tilde X^t||_2$')"
   ]
  },
  {
   "cell_type": "code",
   "execution_count": 5,
   "metadata": {},
   "outputs": [],
   "source": [
    "def run_exp_svm_approx(nb_train, algs, labels, nb_feat_list):\n",
    "\n",
    "    all_scores = []\n",
    "    all_learn_times = []\n",
    "    all_tests_times = []    \n",
    "    \n",
    "    for alg in algs:\n",
    "        scores = []\n",
    "        learn_times = []\n",
    "        tests_times = []        \n",
    "\n",
    "        if isinstance(alg, Pipeline):\n",
    "            for nb_feat in nb_feat_list:\n",
    "                if not isinstance(alg[0], Nystroem) or nb_feat <= nb_train:\n",
    "                    alg[0].set_params(n_components=nb_feat)\n",
    "\n",
    "                    t = time()\n",
    "                    alg.fit(data_train[:nb_train], targets_train[:nb_train])\n",
    "                    t = time() - t\n",
    "                    learn_times.append(t)\n",
    "                    \n",
    "                    t = time()\n",
    "                    scores.append(alg.score(data_test, targets_test))\n",
    "                    t = time() - t       \n",
    "                    tests_times.append(t)                    \n",
    "\n",
    "            all_scores.append(scores)\n",
    "            all_learn_times.append(learn_times)\n",
    "            all_tests_times.append(learn_times)            \n",
    "        else:\n",
    "            t = time()\n",
    "            alg.fit(data_train[:nb_train], targets_train[:nb_train])\n",
    "            t = time() - t\n",
    "            all_learn_times.append([t])\n",
    "            \n",
    "            t = time()            \n",
    "            all_scores.append([alg.score(data_test, targets_test)])\n",
    "            t = time() - t\n",
    "            all_tests_times.append([t])            \n",
    "\n",
    "            \n",
    "    plt.figure(figsize=(16, 8))\n",
    "    # --- accuracy = f(nb features)\n",
    "    plt.subplot(221)\n",
    "    for i in range(len(algs)):\n",
    "        if isinstance(algs[i], Pipeline):\n",
    "            plt.plot(nb_feat_list[:len(all_scores[i])], all_scores[i], label=labels[i])\n",
    "        else:\n",
    "            plt.plot([nb_feat_list[0], nb_feat_list[-1]],[all_scores[i], all_scores[i]], linestyle='--', label=labels[i])\n",
    "    plt.axvline(x=nb_train, color='black', linestyle=':', label='Nyström limit')\n",
    "    plt.legend()\n",
    "    plt.grid()\n",
    "    plt.xlabel('nb components')\n",
    "    plt.ylabel('classification accuracy')\n",
    "\n",
    "    # --- accuracy = f(learning time)\n",
    "    plt.subplot(222)\n",
    "    for i in range(len(algs)):\n",
    "        if isinstance(algs[i], Pipeline):\n",
    "            plt.plot(all_learn_times[i], all_scores[i], label=labels[i])\n",
    "        else:\n",
    "            plt.plot(all_learn_times[i], all_scores[i], '*', label=labels[i])\n",
    "    plt.legend()\n",
    "    plt.grid()\n",
    "    plt.xlabel('learning time')\n",
    "    plt.ylabel('classification accuracy')\n",
    "    \n",
    "    # --- testing time = f(nb features)\n",
    "    plt.subplot(223)\n",
    "    for i in range(len(algs)):\n",
    "        if isinstance(algs[i], Pipeline):\n",
    "            plt.plot(nb_feat_list[:len(all_scores[i])], all_tests_times[i], label=labels[i])\n",
    "        else:\n",
    "            plt.plot([nb_feat_list[0], nb_feat_list[-1]],[all_tests_times[i], all_tests_times[i]], linestyle='--', label=labels[i])\n",
    "    plt.axvline(x=nb_train, color='black', linestyle=':', label='Nyström limit')\n",
    "    plt.legend()\n",
    "    plt.grid()\n",
    "    plt.xlabel('nb components')\n",
    "    plt.ylabel('testing time')    \n",
    "    \n",
    "    \n",
    "    # --- learning time = f(nb features)\n",
    "    plt.subplot(224)\n",
    "    for i in range(len(algs)):\n",
    "        if isinstance(algs[i], Pipeline):\n",
    "            plt.plot(nb_feat_list[:len(all_scores[i])], all_learn_times[i], label=labels[i])\n",
    "        else:\n",
    "            plt.plot([nb_feat_list[0], nb_feat_list[-1]],[all_learn_times[i], all_learn_times[i]], linestyle='--', label=labels[i])\n",
    "    plt.axvline(x=nb_train, color='black', linestyle=':', label='Nystroem limit')\n",
    "    plt.legend()\n",
    "    plt.grid()\n",
    "    plt.xlabel('nb components')\n",
    "    plt.ylabel('learning time')"
   ]
  },
  {
   "cell_type": "markdown",
   "metadata": {},
   "source": [
    "## A.3 Data loading\n",
    "For those who are not familiar with it, you may have a look at the meaning of the command \"fetch_openml\" and the OpenML databases. "
   ]
  },
  {
   "cell_type": "code",
   "execution_count": 6,
   "metadata": {},
   "outputs": [
    {
     "name": "stdout",
     "output_type": "stream",
     "text": [
      "(70000, 784)\n"
     ]
    }
   ],
   "source": [
    "# load MNIST dataset\n",
    "X, y = fetch_openml('mnist_784', version=1, return_X_y=True, as_frame=False)\n",
    "print(X.shape)"
   ]
  },
  {
   "cell_type": "code",
   "execution_count": 7,
   "metadata": {},
   "outputs": [],
   "source": [
    "max_train_samples = 50000\n",
    "\n",
    "data_train, data_test, targets_train, targets_test = train_test_split(\n",
    "    X, y, train_size=max_train_samples, test_size=10000)\n",
    "\n",
    "scaler = StandardScaler()\n",
    "data_train = scaler.fit_transform(data_train)\n",
    "data_test = scaler.transform(data_test)"
   ]
  },
  {
   "attachments": {},
   "cell_type": "markdown",
   "metadata": {},
   "source": [
    "# B. Impact of the size of the training set\n",
    "\n",
    "## B.1 Definition of the target problem\n",
    "\n",
    "In this practical session, we consider an SVM classification problem with Gaussian and linear kernels. \n",
    "\n",
    "`TODO` Write the optimization problem targeted by (binary classification) SVM for a feature map $\\phi:\\mathbb{R}^p \\rightarrow \\mathbb{H}$ where $\\mathbb{H}$ is a Hilbert space with inner product $\\langle \\cdot, \\cdot \\rangle_{\\mathbb{H}}$ and induced norm $\\|\\cdot\\|_{\\mathbb{H}}$: \n",
    "\n",
    "$$\\quad \\hat{h}(x)=\\operatorname{sign}\\left(\\langle\\phi(x), \\hat{w}\\rangle_{\\mathbb{H}}\\right)\n",
    "\n",
    "\\text{, where } \\hat{w}=\\underset{w \\in \\mathbb{H}}{\\arg \\min ^2} \\sum_{i=1}^n\\left[1-y_i\\left\\langle\\phi\\left(x_i\\right), w\\right\\rangle_{\\mathbb{H}}\\right]_{+}+\\lambda\\|\\boldsymbol{w}\\|_{\\mathbb{H}}^2$$\n",
    "\n",
    "How and why can you reduce this problem to a finite dimensional problem? Write the form of the corresponding problem:   \n",
    " \n",
    "Car on peut le transformer le probleme :\n",
    "$$\n",
    "\\hat{w}=\\sum_{i=1}^n \\phi_i\\left(x_i\\right) \\alpha_i\n",
    "$$\n",
    "Et donc devient une combinaison linéraire des xi (fini) ou l'on doit trouver les alpha\n",
    "\n",
    "Equivalent formulation of soft-SVM in feature space:\n",
    "$$\n",
    "\\hat{\\alpha} \\in \\underset{\\alpha \\in \\mathbb{R}^n}{\\arg \\min } \\mathbb{1}^{\\mathrm{T}}[\\mathbf{1}-\\boldsymbol{y} \\odot \\boldsymbol{K} \\boldsymbol{\\alpha}]_{+}+\\lambda \\boldsymbol{\\alpha}^{\\mathrm{T}} \\boldsymbol{K} \\boldsymbol{\\alpha}\n",
    "$$\n",
    "where $\\odot$ represents element-wise multiplications,\n",
    "$$\n",
    "\\boldsymbol{K} \\triangleq\\left(\\begin{array}{ccc}\n",
    "\\kappa\\left(\\boldsymbol{x}_1, \\boldsymbol{x}_1\\right) & \\ldots & \\kappa\\left(\\boldsymbol{x}_1, \\boldsymbol{x}_n\\right) \\\\\n",
    "\\vdots & & \\vdots \\\\\n",
    "\\kappa\\left(\\boldsymbol{x}_n, \\boldsymbol{x}_1\\right) & \\ldots & \\kappa\\left(\\boldsymbol{x}_n, \\boldsymbol{x}_n\\right)\n",
    "\\end{array}\\right) \\in \\mathbb{R}^{n \\times n}\n",
    "$$\n",
    "and\n",
    "$$\n",
    "\\begin{aligned}\n",
    "\\kappa: \\mathbb{R}^p \\times \\mathbb{R}^p & \\rightarrow \\mathbb{R} \\\\\n",
    "\\left(\\boldsymbol{x}, \\boldsymbol{x}^{\\prime}\\right) & \\mapsto\\left\\langle\\phi(\\boldsymbol{x}), \\phi\\left(\\boldsymbol{x}^{\\prime}\\right)\\right\\rangle_{\\text {H }}\n",
    "\\end{aligned}\n",
    "$$\n",
    "\n",
    "Il faut donc calculer K (qui est grande)\n",
    "\n",
    "- Calcul de $K^{\\top} K$ and $X: \\mathcal{O}\\left(n^3\\right)$\n",
    "- Calcul de $\\langle\\boldsymbol{x}, x\\rangle: \\mathcal{O}(p)$\n",
    "\n",
    "Since the problem you are targetting is not a binary classification problem (but 10-ary), how does Scikit-learn proceed? \n",
    "\n",
    "Il utilise un one vs rest classifier (il prend le chiffre qui a le plus grand produit scalaire dans la liste) "
   ]
  },
  {
   "cell_type": "markdown",
   "metadata": {},
   "source": [
    "## B.2 Definition of the classifiers in Scikit-learn\n",
    "In the practical session, we leverage the Scikit-learn Python toolbox. If you are not familiar with it, check out the toolbox document to understand the definitions below. "
   ]
  },
  {
   "cell_type": "code",
   "execution_count": 8,
   "metadata": {},
   "outputs": [
    {
     "name": "stdout",
     "output_type": "stream",
     "text": [
      "------ nb_train : 500 ------\n",
      "learning time:  1.5s\n",
      "testing time:  0.055s\n",
      "accuracy: 0.7565\n",
      "\n"
     ]
    }
   ],
   "source": [
    "# SVM with linear \"kernel\"\n",
    "linear_svm = svm.LinearSVC()\n",
    "\n",
    "# Accuracy and computation time while learning with nb_train=500 examples and testing with 10 000 examples \n",
    "test_classifier(linear_svm, nb_train=500)"
   ]
  },
  {
   "cell_type": "code",
   "execution_count": 9,
   "metadata": {},
   "outputs": [
    {
     "name": "stdout",
     "output_type": "stream",
     "text": [
      "------ nb_train : 500 ------\n",
      "learning time:  0.2s\n",
      "testing time:   3.4s\n",
      "accuracy: 0.8175\n",
      "\n"
     ]
    }
   ],
   "source": [
    "# SVM with Gaussian kernel\n",
    "kernel_svm = svm.SVC(gamma=0.001) # TODO: set gamma to 0.001\n",
    "\n",
    "# Accuracy and computation time while learning with nb_train=500 examples and testing with 10 000 examples \n",
    "# TODO:\n",
    "test_classifier(kernel_svm, nb_train=500)"
   ]
  },
  {
   "attachments": {},
   "cell_type": "markdown",
   "metadata": {},
   "source": [
    "`TODO` Do you observe any difference in the learning and testing times of the two approaches?  If yes, why is it so? \n",
    "\n",
    "\n",
    "Pour le testing time :linear \"kernel\" est de complexité  O(p) et Gaussian Kernal O(np) donc kernel_svm met plus de temps que linear_svm"
   ]
  },
  {
   "cell_type": "markdown",
   "metadata": {},
   "source": [
    "## B.3 Study of the impact of the size of the training set\n",
    "At this point, you may want to have a look at the definition of the function \"run_exp_nbex\" above.\n",
    "\n",
    "`TODO`\n",
    "\n",
    "1) Run the code of the first cell and interpret the results. \n",
    "\n",
    "2) Increase the size of the data set in the second cell, run the code and interpret again the results."
   ]
  },
  {
   "cell_type": "code",
   "execution_count": 10,
   "metadata": {},
   "outputs": [
    {
     "data": {
      "image/png": "[encoded data removed]",
      "text/plain": [
       "<Figure size 1152x576 with 4 Axes>"
      ]
     },
     "metadata": {
      "needs_background": "light"
     },
     "output_type": "display_data"
    }
   ],
   "source": [
    "run_exp_nbex(nb_train_list=[100, 200, 500],      # sizes of the training set to be tested\n",
    "             algs=[linear_svm, kernel_svm],      # algorithms to be tested\n",
    "             labels=['SVM-lin', 'SVM-Gauss'])    # labels corresponding to tested algorithms"
   ]
  },
  {
   "attachments": {},
   "cell_type": "markdown",
   "metadata": {},
   "source": [
    "Comme dit à la question précedente pour les test le SVM-Gaus est de complexité O(np) donc le temps augmente avec n alor que SVM-lin est de complexité O(p) donc n'augmente pas quand n augmente"
   ]
  },
  {
   "cell_type": "code",
   "execution_count": 11,
   "metadata": {},
   "outputs": [
    {
     "data": {
      "image/png": "[encoded data removed]",
      "text/plain": [
       "<Figure size 1152x576 with 4 Axes>"
      ]
     },
     "metadata": {
      "needs_background": "light"
     },
     "output_type": "display_data"
    }
   ],
   "source": [
    "# TODO: What's the impact when the training dataset increases\n",
    "# (you may go up to 50,000 examples, but it may induced HUGE computation time)\n",
    "run_exp_nbex(nb_train_list=[100, 200, 500, 1000],      # sizes of the training set to be tested\n",
    "             algs=[linear_svm, kernel_svm],      # algorithms to be tested\n",
    "             labels=['SVM-lin', 'SVM-Gauss'])    # labels corresponding to tested algorithms"
   ]
  },
  {
   "attachments": {},
   "cell_type": "markdown",
   "metadata": {},
   "source": [
    "On a donc à partir de n = 100 un meilleur model avec SVM-Gaus. Comme dit à la question précedente pour les test le SVM-Gaus est de complexité O(np) donc le temps augmente avec n alor que SVM-lin est de complexité O(p) donc n'augmente pas quand n augmente. Pour le learning time le SVM-lin augmente beaucoup plus que celui de SVM-Gauss "
   ]
  },
  {
   "attachments": {},
   "cell_type": "markdown",
   "metadata": {},
   "source": [
    "# C. Low-rank kernel approximations \n",
    "\n",
    "In this part, we consider two methods (\"Nyström\" and \"Rahimi-Recht\") to approximate the kernel used in the SVM classification problem. \n",
    "\n",
    "`TODO` Let $\\mathbf{K}\\in\\mathbb{R}^{n \\times n}$ be the kernel Gram matrix appearing in the original SVM problem.  If we approximate $\\mathbf{K}$ by $\\hat{\\mathbf{K}}=\\mathbf{Z}\\mathbf{Z}^T$ for some full-rank matrix $\\mathbf{Z}\\in\\mathbb{R}^{n \\times r}$, write the $r$-dimensional optimization problem one can obtain in this case: \n",
    "\n",
    "$$\n",
    "\\hat{\\boldsymbol{\\alpha}} \\in \\underset{\\boldsymbol{\\alpha} \\in \\mathbb{R}^n}{\\arg \\min } 1^{\\mathrm{T}}[\\mathbf{y} \\odot \\boldsymbol{y} \\boldsymbol{K}]_{+}+\\lambda \\boldsymbol{\\alpha}^{\\mathrm{T}} \\boldsymbol{K} \\boldsymbol{\\alpha}\n",
    "$$\n",
    "Assume $\\boldsymbol{K}=\\boldsymbol{Z} \\boldsymbol{Z}^{\\mathrm{T}}$ for some full-rank matrix $Z \\in \\mathbb{R}^{n \\times r}$ with $r \\leq n$.\n",
    "\n",
    "Let $\\gamma=\\boldsymbol{Z}^{\\mathrm{T}} \\boldsymbol{\\alpha}$. \n",
    "\n",
    "Then the problem becomes\n",
    "$$\n",
    "\\begin{array}{l}\n",
    "\\hat{\\gamma} \\in \\underset{\\gamma \\in \\mathbb{R}^r}{\\operatorname{argmin}} 1^{\\mathrm{T}}[1-\\boldsymbol{y} \\odot \\boldsymbol{Z} \\boldsymbol{\\gamma}]_{+}+\\lambda\\|\\boldsymbol{\\gamma}\\|_2^2 . \\\\\n",
    "\\hat{\\boldsymbol{\\alpha}}=\\boldsymbol{Z}\\left(\\boldsymbol{Z}^{\\mathrm{T}} \\boldsymbol{Z}\\right)^{-1} \\boldsymbol{\\hat{\\gamma}}.\n",
    "\\end{array}\n",
    "$$\n",
    "\n",
    "with\n",
    "$$\n",
    "\\boldsymbol{Z}=\\left[\\begin{array}{c}\n",
    "\\hat{\\phi}\\left(\\boldsymbol{x}_1\\right)^{\\mathrm{T}} \\\\\n",
    "\\vdots \\\\\n",
    "\\hat{\\phi}\\left(\\boldsymbol{x}_n\\right)^{\\mathrm{T}}\n",
    "\\end{array}\\right] \\in \\mathbb{R}^{n \\times x}\n",
    "$$\n",
    "\n",
    "$\\operatorname{sign}\\left(\\langle\\hat{\\gamma}, \\hat{\\phi(x)}\\rangle\\right)$ de complexité O(r)\n",
    "\n",
    "(p115)"
   ]
  },
  {
   "attachments": {},
   "cell_type": "markdown",
   "metadata": {},
   "source": [
    "## C.1 \"Nyström\" approximation\n",
    "\n",
    "The Nyström approximation is already implemented in Scikit-learn and you are not asked to re-implement it. Nevertheless, your are required to answer the following questions:\n",
    "\n",
    "`TODO`\n",
    "\n",
    "1) What is the expression of matrix $\\mathbf{Z}$ in the Nyström approximation? \n",
    "\n",
    "\n",
    "$$\n",
    "Z=\\left(K_{\\mathcal{S}}\\right)^{\\mathrm{T}} \\mathrm{V} \\Sigma^{-1}\n",
    "$$\n",
    "With:\n",
    "\n",
    "$\\mathrm{V}=$ the matrix of eigen vectors of $K_{\\mathcal{S}, \\mathcal{S}}$\n",
    "\n",
    "$\\Sigma=$ the diagonal matrix of eigen values of $K_{\\mathcal{S}, \\mathcal{S}}$.\n",
    "\n",
    "2) What are the operations performed by the methods \"fit\" and \"transform\" of the class \"Nystroem\"? (see code below and Scikit-learn documentation)\n",
    "\n",
    "Fit : calcul le noyeau et son svd associé  (calcul le $\\hat{\\phi}$)\n",
    "\n",
    "Transform : Calcul les nouvelles features\n",
    "\n",
    "3) Run the code below and discuss the results.\n"
   ]
  },
  {
   "cell_type": "code",
   "execution_count": 12,
   "metadata": {
    "lines_to_next_cell": 2
   },
   "outputs": [
    {
     "name": "stdout",
     "output_type": "stream",
     "text": [
      "200 examples of dimension 100\n",
      "DescribeResult(nobs=40000, minmax=(-0.05164688735906592, 0.9999948017372158), mean=0.0016456271666344365, variance=0.0006007949262353134, skewness=24.457856609355858, kurtosis=744.5520830057893)\n"
     ]
    },
    {
     "data": {
      "image/png": "[encoded data removed]",
      "text/plain": [
       "<Figure size 576x576 with 1 Axes>"
      ]
     },
     "metadata": {
      "needs_background": "light"
     },
     "output_type": "display_data"
    }
   ],
   "source": [
    "nystroem = Nystroem(gamma=0.001)\n",
    "nystroem.set_params(n_components=100)\n",
    "\n",
    "sub_data = data_train[:200]\n",
    "\n",
    "# compute the parameters required to generate the new feature space\n",
    "nystroem.fit(sub_data)\n",
    "\n",
    "# generation of new features\n",
    "sub_data_tilde = nystroem.transform(sub_data)\n",
    "print(f'{sub_data_tilde.shape[0]} examples of dimension {sub_data_tilde.shape[1]}')\n",
    "\n",
    "# approximation quality\n",
    "K = rbf_kernel(sub_data, gamma=0.001)\n",
    "K_tilde = sub_data_tilde @ sub_data_tilde.transpose()\n",
    "print(describe((K-K_tilde).flatten()))\n",
    "plt.figure(figsize=(8, 8))\n",
    "plt.hist((K-K_tilde).flatten(), bins=100)\n",
    "plt.show()"
   ]
  },
  {
   "attachments": {},
   "cell_type": "markdown",
   "metadata": {},
   "source": [
    "La distribution est fortement centré sur 0 avec beaucoup d'individus en 0 car il s'agit de tout les element qui on bin été prédis cra comme on est dans un classifier l'erreur est de 0 si bien prédis.\n",
    "\n",
    "Il est possible qu'il y ai au moins 1 point avec une grande erreur sinon on aurait un graphique centré sur le 0? Les x1 jusqua xr que l'on à pris était pas mal pour quasi tout les point sauf c'est 1 ou 2 points avec une grande erreur"
   ]
  },
  {
   "attachments": {},
   "cell_type": "markdown",
   "metadata": {
    "lines_to_next_cell": 2
   },
   "source": [
    "## C.2 \"Rahimi-Recht\" approximation\n",
    "\n",
    "In this part, we consider the \"Rahimi-Recht\" approximation, also often referred to as \"Random Fourier features\". You are asked to implement this method. Please asnwer the following questions: \n",
    "\n",
    "`TODO`\n",
    "\n",
    "1) To what kind of kernel does the Rahimi-Recht approximation apply?\n",
    "\n",
    "Les noyeau qui peuvent s'écrire : $K\\left(x, x^{\\prime}\\right)=f\\left(x-x^{\\prime}\\right)$\n",
    "\n",
    "(la fonction doit etre invariante par translation)\n",
    "\n",
    "2) What is the expression of matrix $\\mathbf{Z}$ in the Rahimi-Recht approximation? \n",
    "$$\n",
    "\\hat{\\phi}(\\boldsymbol{x})=\\frac{1}{\\sqrt{r}}\\left[\\begin{array}{c}\n",
    "\\cos \\left(\\omega_1^{\\mathrm{T}} \\boldsymbol{x}+b_1\\right) \\\\\n",
    "\\sin \\left(\\omega_1^{\\mathrm{T}} \\boldsymbol{x}+b_1\\right) \\\\\n",
    "\\vdots \\\\\n",
    "\\cos \\left(\\omega_r^{\\mathrm{T}} \\boldsymbol{x}+b_r\\right) \\\\\n",
    "\\sin \\left(\\boldsymbol{\\omega}_r^{\\mathrm{T}} \\boldsymbol{x}+b_r\\right)\n",
    "\\end{array}\\right]\n",
    "$$\n",
    "\n",
    "Avec les bj = 0 on peut obtenir :\n",
    "\n",
    "$$\n",
    "Z=\\frac{1}{\\sqrt{r}}\\left(\\begin{array}{ccccc}\n",
    "\\cos \\left(\\omega_1^{\\top} \\boldsymbol{x}_1\\right) & \\sin \\left(\\omega_1^{\\top} \\boldsymbol{x}_1\\right) & \\ldots & \\cos \\left(\\omega_r^{\\top} \\boldsymbol{x}_1\\right) & \\sin \\left(\\omega_r^{\\top} \\boldsymbol{X}_1\\right) \\\\\n",
    "\\vdots & \\vdots & & \\vdots & \\vdots \\\\\n",
    "\\cos \\left(\\omega_1^{\\top} \\boldsymbol{x}_n\\right) & \\sin \\left(\\omega_1^{\\top} \\boldsymbol{x}_n\\right) & \\ldots & \\cos \\left(\\omega_r^{\\top} \\boldsymbol{x}_n\\right) & \\sin \\left(\\omega_r^{\\top} \\boldsymbol{x}_n\\right)\n",
    "\\end{array}\\right)\n",
    "$$\n",
    "\n",
    "3) If the considered kernel is $\\kappa(\\mathbf{x}_i, \\mathbf{x}_j) = \\exp(-\\gamma\\| \\mathbf{x}_i-\\mathbf{x}_j\\|^2_2)$, what is the distribution of the \"pulsations\" appearing in the Rahimi-Recht approximation? \n",
    "\n",
    "Une distribution gaussiene centré avec une variance de ${2\\gamma}$\n",
    "\n",
    "4) Implement and test the functions `draw_direction()` and `transform_data()` below.\n",
    "\n",
    "5) Run the code in the third cell and discuss the quality of the obtained approximation.  "
   ]
  },
  {
   "cell_type": "code",
   "execution_count": 13,
   "metadata": {
    "lines_to_next_cell": 1
   },
   "outputs": [],
   "source": [
    "def draw_directions(n_features, n_components=100, gamma=1.):\n",
    "    \"\"\" Draw the random directions used to transform the data.\n",
    "    \n",
    "    Parameters\n",
    "    ----------\n",
    "    n_features : int\n",
    "        Number features in the original space.\n",
    "    n_components : int, default=100\n",
    "        Number of Monte Carlo samples per original feature.\n",
    "        Equals the dimensionality of the computed feature space.\n",
    "        Has to be even.\n",
    "    gamma : float, default=1.0\n",
    "        Parameter of RBF kernel: exp(-gamma * x^2)\n",
    "    Returns\n",
    "    -------\n",
    "    W : array-like, shape (n_components/2, n_features)\n",
    "        D directions, où D = n_features/2.\n",
    "    \"\"\"\n",
    "    # We apply fourrier transform over gausian kernel which is :\n",
    "    weights = (2.0 * gamma) ** 0.5 * np.random.normal(\n",
    "            size=(n_features, n_components)\n",
    "        )\n",
    "    return weights.T[:int(n_components/2),:]"
   ]
  },
  {
   "cell_type": "code",
   "execution_count": 14,
   "metadata": {
    "lines_to_next_cell": 1
   },
   "outputs": [],
   "source": [
    "def transform_data(X, W):\n",
    "    \"\"\"Transform the dataset.\n",
    "    \n",
    "    Parameters\n",
    "    ----------\n",
    "    X : {array-like, sparse matrix}, shape (n_samples, n_features)\n",
    "        Data, where n_samples in the number of samples\n",
    "        and n_features is the number of features.\n",
    "    W : array-like, shape (n_components/2, n_features)\n",
    "        Directions to build the new features.\n",
    "    Returns\n",
    "    -------\n",
    "    Z : array-like, shape (n_samples, n_components)\n",
    "    \"\"\"\n",
    "    print(W.shape)\n",
    "    r=W.shape[0] # We used r=2* W.shape[0] in MC approximation \n",
    "    print(r)\n",
    "    projection=np.dot(X,W.T) \n",
    "    print(projection.shape)\n",
    "    # 2r=n_components/2\n",
    "    np.cos(projection,projection)\n",
    "    print(projection.shape)\n",
    "    \n",
    "    \n",
    "    projection*= (1/r)**0.5 \n",
    "    return projection\n",
    "    return"
   ]
  },
  {
   "cell_type": "code",
   "execution_count": 15,
   "metadata": {
    "lines_to_next_cell": 1
   },
   "outputs": [
    {
     "name": "stdout",
     "output_type": "stream",
     "text": [
      "(50, 784)\n",
      "50\n",
      "(200, 50)\n",
      "(200, 50)\n",
      "200 examples of dimension 50\n",
      "DescribeResult(nobs=40000, minmax=(-0.2399716591965422, 0.6009763668415578), mean=0.019629853899361432, variance=0.006723919830577171, skewness=0.8206727649906438, kurtosis=2.8205697655445228)\n"
     ]
    },
    {
     "data": {
      "image/png": "[encoded data removed]",
      "text/plain": [
       "<Figure size 576x576 with 1 Axes>"
      ]
     },
     "metadata": {
      "needs_background": "light"
     },
     "output_type": "display_data"
    }
   ],
   "source": [
    "sub_data = data_train[:200]\n",
    "n_features = data_train.shape[1]\n",
    "\n",
    "# draw directions\n",
    "directions = draw_directions(n_features, n_components=100, gamma=0.001)\n",
    "\n",
    "# generate the new features\n",
    "sub_data_tilde = transform_data(sub_data, directions)\n",
    "print(f'{sub_data_tilde.shape[0]} examples of dimension {sub_data_tilde.shape[1]}')\n",
    "\n",
    "# quality of the approximation\n",
    "K = rbf_kernel(sub_data, gamma=0.001)\n",
    "K_tilde = sub_data_tilde @ sub_data_tilde.transpose()\n",
    "print(describe((K-K_tilde).flatten()))\n",
    "plt.figure(figsize=(8, 8))\n",
    "plt.hist((K-K_tilde).flatten(), bins=100)\n",
    "plt.show()"
   ]
  },
  {
   "cell_type": "code",
   "execution_count": 16,
   "metadata": {},
   "outputs": [
    {
     "name": "stdout",
     "output_type": "stream",
     "text": [
      "200 examples of dimension 50\n",
      "DescribeResult(nobs=40000, minmax=(-0.455877114336923, 0.7136293048204216), mean=0.031139660231706303, variance=0.019260263513192058, skewness=0.33439837772118036, kurtosis=0.5068183094427137)\n"
     ]
    },
    {
     "data": {
      "image/png": "[encoded data removed]",
      "text/plain": [
       "<Figure size 576x576 with 1 Axes>"
      ]
     },
     "metadata": {
      "needs_background": "light"
     },
     "output_type": "display_data"
    }
   ],
   "source": [
    "\n",
    "K_bis= RBFSampler(n_components=50,gamma=0.001)\n",
    "K_bis.fit(sub_data)\n",
    "sub_data_tilde_bis=K_bis.transform(sub_data)\n",
    "print(f'{sub_data_tilde_bis.shape[0]} examples of dimension {sub_data_tilde_bis.shape[1]}')\n",
    "K_tilde_bis=sub_data_tilde_bis @ sub_data_tilde_bis.transpose()\n",
    "print(describe((K_tilde_bis-K_tilde).flatten()))\n",
    "plt.figure(figsize=(8, 8))\n",
    "plt.hist((K-K_tilde).flatten(), bins=100)\n",
    "plt.show()"
   ]
  },
  {
   "cell_type": "markdown",
   "metadata": {},
   "source": [
    "## C.3 Comparison of \"Nyström\" and \"Rahimi-Recht\" approximations\n",
    "\n",
    "At this point, you may want to have a look at the definition of the function \"run_exp_approx\" above.\n",
    "\n",
    "`TODO` Run the cell below and comment the results of the comparison.\n"
   ]
  },
  {
   "cell_type": "code",
   "execution_count": null,
   "metadata": {},
   "outputs": [],
   "source": [
    "def transform_rff_0_001(X, n_components):\n",
    "    return transform_data(X, draw_directions(X.shape[1], n_components=n_components, gamma=0.001))\n",
    "sub_data = data_train[:2000]\n",
    "run_exp_approx(data_train=sub_data,                                        # data\n",
    "               approx_sizes=[10, 50, 100, 150, 500, 1000, 10**4, 10**5],   # sizes of approximation to be tested\n",
    "               algs=[Nystroem(gamma=0.001), transform_rff_0_001],          # methods to be tested (Nystroem object or function to transform the data)\n",
    "               labels=['Nystroem', 'RFF'])                                 # label to attach to each method"
   ]
  },
  {
   "cell_type": "markdown",
   "metadata": {},
   "source": [
    "# D. SVM classification with approximate kernels\n",
    "\n",
    "In this part of the practical session, we study how the \"Nyström\" and \"Rahimi-Recht\" low-rank approximations impact the accuracy and the learning/testing times of the classification procedures. \n",
    "\n",
    "To start, write down how the classification decision is made when considering:\n",
    "\n",
    "A) Nyström approximation: $\\mbox{write your answer here}$  \n",
    "B) Rahimi-Recht approximation: $\\mbox{write your answer here}$  "
   ]
  },
  {
   "cell_type": "markdown",
   "metadata": {},
   "source": [
    "## D.1 Embedding the approximations into Scikit-learn functions\n",
    "\n",
    "Before proceedings to any comparison, we first need to embed our kernel low-rank approximation in the standard tools for linear SVM classification implemented by Scikit-learn. From your answer to the previous questions, you should have come up to the following conclusions: SVM with kernel approximation is equivalent to\n",
    "\n",
    "* First, transform the original feature $\\mathbf{x}\\in\\mathbb{R}^p$ into another \"feature\" $\\mathbf{z}\\in\\mathbb{R}^r$ (e.g., matrix $\\mathbf{X}\\in \\mathbb{R}^{n \\times p}$ becomes $\\mathbf{Z}\\in \\mathbb{R}^{n \\times r}$)\n",
    "* Second, apply standard linear regression on the transformed features. \n",
    "\n",
    "These two operations can be embedded into a single function thanks the Scikit-learn class \"Pipeline\". \n",
    "An example of use of \"Pipeline\" to implement SVM classification with Nyström approximation of the Gaussian kernel is provided in the next cell.\n",
    "\n",
    "`TODO` Consult the documention of Scikit-learn to understand how the class Pipeline proceeds. \n"
   ]
  },
  {
   "cell_type": "code",
   "execution_count": null,
   "metadata": {},
   "outputs": [],
   "source": [
    "nystroem_approx_svm = Pipeline([(\"feature_map\", Nystroem(gamma=0.001)),\n",
    "                                (\"svm\", svm.LinearSVC())])\n",
    "\n",
    "\n",
    "nystroem_approx_svm[0].set_params(n_components=100)\n",
    "test_classifier(nystroem_approx_svm, 500)\n",
    "\n",
    "nystroem_approx_svm[0].set_params(n_components=400)\n",
    "test_classifier(nystroem_approx_svm, 500)\n",
    "\n",
    "nystroem_approx_svm[0].set_params(n_components=1000)\n",
    "test_classifier(nystroem_approx_svm, 500)        # !!! warning: nb_feat has to be smaller than nb_ex"
   ]
  },
  {
   "cell_type": "markdown",
   "metadata": {},
   "source": [
    "To apply the same approach for the Rahimi-Recht approximation, we must create a class (say `RFF_transform`) with methods \"fit\" and \"transform\" for this approximation. \n",
    "\n",
    "`TODO` Complete the definition of the class `RFF_transform` below and then (in the second cell) define a new object `rff_approx_svm` concatenating the Rahimi-Recht approximation and the linear SVM classification with a code similar to\n",
    "\n",
    "```python\n",
    "mod = Pipeline([(\"feature_map\", RFF_transform(gamma=0.001, n_components=10**3)),\n",
    "                        (\"svm\", svm.LinearSVC())])\n",
    "```\n"
   ]
  },
  {
   "cell_type": "code",
   "execution_count": null,
   "metadata": {
    "lines_to_next_cell": 0
   },
   "outputs": [],
   "source": [
    "class RFF_transform(TransformerMixin, BaseEstimator):\n",
    "    \"\"\"Approximates feature map of an RBF kernel by Monte Carlo approximation\n",
    "    of its Fourier transform.\n",
    "    It implements Random Fourrier Features.\n",
    "    \n",
    "    Parameters\n",
    "    ----------\n",
    "    gamma : float, default=1.0\n",
    "        Parameter of RBF kernel: exp(-gamma * x^2)\n",
    "    n_components : int, default=100\n",
    "        Number of Monte Carlo samples per original feature.\n",
    "        Equals the dimensionality of the computed feature space.\n",
    "    Attributes\n",
    "    ----------\n",
    "    random_offset_ : ndarray of shape (n_components,), dtype=float64\n",
    "        Random offset used to compute the projection in the `n_components`\n",
    "        dimensions of the feature space.\n",
    "    random_weights_ : ndarray of shape (n_features, n_components),\\\n",
    "        dtype=float64\n",
    "        Random projection directions drawn from the Fourier transform\n",
    "        of the RBF kernel.\n",
    "    \"\"\"\n",
    "    def __init__(self, *, gamma=1., n_components=100):\n",
    "        self.gamma = gamma\n",
    "        self.n_components = n_components\n",
    "\n",
    "    def fit(self, X, y=None):\n",
    "        \"\"\"Fit the model with X.\n",
    "        Samples random projection according to n_features.\n",
    "        Parameters\n",
    "        ----------\n",
    "        X : array-like, shape (n_samples, n_features)\n",
    "            Training data, where n_samples in the number of samples\n",
    "            and n_features is the number of features.\n",
    "        Returns\n",
    "        -------\n",
    "        self : object\n",
    "            Returns the transformer.\n",
    "        \"\"\"\n",
    "\n",
    "        n_features = X.shape[1]\n",
    "        self.random_directions_ = draw_directions(n_features, self.n_components, self.gamma)\n",
    "        return self\n",
    "\n",
    "    def transform(self, X):\n",
    "        \"\"\"Apply the approximate feature map to X.\n",
    "        Parameters\n",
    "        ----------\n",
    "        X : {array-like, sparse matrix}, shape (n_samples, n_features)\n",
    "            New data, where n_samples in the number of samples\n",
    "            and n_features is the number of features.\n",
    "        Returns\n",
    "        -------\n",
    "        X_new : array-like, shape (n_samples, n_components)\n",
    "        \"\"\"\n",
    "        return transform_data(X, self.random_directions_)"
   ]
  },
  {
   "cell_type": "code",
   "execution_count": null,
   "metadata": {},
   "outputs": [],
   "source": [
    "# TODO: same test as for Nyström but with Rahimi-Recht approximation\n",
    "rff_approx_svm = "
   ]
  },
  {
   "cell_type": "markdown",
   "metadata": {},
   "source": [
    "## D.2 Comparison of the approximations in terms of accuracy and learning/testing times\n",
    "\n",
    "`TODO` Run the two following celles and discuss the results. "
   ]
  },
  {
   "cell_type": "code",
   "execution_count": null,
   "metadata": {},
   "outputs": [],
   "source": [
    "run_exp_svm_approx(500,                              # size of the training set\n",
    "                   algs=[linear_svm, kernel_svm,     # algorithms to be compared\n",
    "                         nystroem_approx_svm,\n",
    "                         rff_approx_svm],\n",
    "                   labels=['SVM-lin', 'SVM-Gauss',   # label to attach to each algorithm\n",
    "                           'Nystroem approx. kernel',\n",
    "                           'Fourier approx. kernel'], \n",
    "                   nb_feat_list=[100, 500, 1000]     # sizes of approximation to be tested (for approximation-based algorithms)\n",
    "                  )"
   ]
  },
  {
   "cell_type": "code",
   "execution_count": null,
   "metadata": {},
   "outputs": [],
   "source": [
    "# TODO : increase the size of the training set and of the approximation space\n",
    "run_exp_svm_approx(5000,                                   # size of the training set\n",
    "                   algs=[linear_svm, kernel_svm,           # algorithms to be compared\n",
    "                         nystroem_approx_svm,\n",
    "                         rff_approx_svm],\n",
    "                   labels=['SVM-lin', 'SVM-Gauss',         # label to attach to each algorithm\n",
    "                           'Nystroem approx. kernel',\n",
    "                           'Fourier approx. kernel'], \n",
    "                   nb_feat_list=[100, 10**3, 10**4, 10**5] # sizes of approximation to be tested (for approximation-based algorithms)\n",
    "                  )"
   ]
  },
  {
   "cell_type": "markdown",
   "metadata": {
    "incorrectly_encoded_metadata": "toc-hr-collapsed=true"
   },
   "source": [
    "## D.3 Scaling property of the approximate SVM classification procedures\n",
    "\n",
    "In this part of the practical session, you will test different classification procedures and study how they compare in terms of accuracy, learning time and testing time.\n",
    "\n",
    "`TODO`: Run the following cells and discuss the results. "
   ]
  },
  {
   "cell_type": "markdown",
   "metadata": {},
   "source": [
    "### SVM with Gaussian kernel"
   ]
  },
  {
   "cell_type": "code",
   "execution_count": null,
   "metadata": {},
   "outputs": [],
   "source": [
    "test_classifier(kernel_svm, 1000)"
   ]
  },
  {
   "cell_type": "code",
   "execution_count": null,
   "metadata": {},
   "outputs": [],
   "source": [
    "test_classifier(kernel_svm, 5000)"
   ]
  },
  {
   "cell_type": "code",
   "execution_count": null,
   "metadata": {},
   "outputs": [],
   "source": [
    "test_classifier(kernel_svm, 20000)"
   ]
  },
  {
   "cell_type": "code",
   "execution_count": null,
   "metadata": {},
   "outputs": [],
   "source": [
    "test_classifier(kernel_svm, 50000)"
   ]
  },
  {
   "cell_type": "markdown",
   "metadata": {},
   "source": [
    "### Linear SVM"
   ]
  },
  {
   "cell_type": "code",
   "execution_count": null,
   "metadata": {},
   "outputs": [],
   "source": [
    "mod = svm.LinearSVC()\n",
    "test_classifier(mod, 5000)\n",
    "print(f'early stopping after {mod.n_iter_} iteration while max_iter={mod.max_iter}')"
   ]
  },
  {
   "cell_type": "code",
   "execution_count": null,
   "metadata": {},
   "outputs": [],
   "source": [
    "mod = svm.LinearSVC()\n",
    "test_classifier(mod, 20000)\n",
    "print(f'early stopping after {mod.n_iter_} iteration while max_iter={mod.max_iter}')"
   ]
  },
  {
   "cell_type": "code",
   "execution_count": null,
   "metadata": {},
   "outputs": [],
   "source": [
    "mod = svm.LinearSVC()\n",
    "test_classifier(mod, 50000)\n",
    "print(f'early stopping after {mod.n_iter_} iteration while max_iter={mod.max_iter}')"
   ]
  },
  {
   "cell_type": "markdown",
   "metadata": {},
   "source": [
    "### SVM with Gaussian kernel and Rahimi-Recht approximation"
   ]
  },
  {
   "cell_type": "markdown",
   "metadata": {},
   "source": [
    "#### 5 000 examples "
   ]
  },
  {
   "cell_type": "code",
   "execution_count": null,
   "metadata": {},
   "outputs": [],
   "source": [
    "mod = Pipeline([(\"feature_map\", RBFSampler(gamma=0.001, n_components=10**3)),\n",
    "                         (\"svm\", svm.LinearSVC())])\n",
    "test_classifier(mod, 5000)"
   ]
  },
  {
   "cell_type": "code",
   "execution_count": null,
   "metadata": {},
   "outputs": [],
   "source": [
    "mod = Pipeline([(\"feature_map\", RBFSampler(gamma=0.001, n_components=10**4)),\n",
    "                         (\"svm\", svm.LinearSVC())])\n",
    "test_classifier(mod, 5000)"
   ]
  },
  {
   "cell_type": "code",
   "execution_count": null,
   "metadata": {},
   "outputs": [],
   "source": [
    "# What are the results if we use SGD to optimize the parameter of the linear SVM?\n",
    "mod = Pipeline([(\"feature_map\", RBFSampler(gamma=0.001, n_components=10**4)),\n",
    "                         (\"svm\", SGDClassifier(early_stopping=True))])\n",
    "test_classifier(mod, 5000)"
   ]
  },
  {
   "cell_type": "markdown",
   "metadata": {},
   "source": [
    "#### 20 000 examples "
   ]
  },
  {
   "cell_type": "code",
   "execution_count": null,
   "metadata": {},
   "outputs": [],
   "source": [
    "mod = Pipeline([(\"feature_map\", RBFSampler(gamma=0.001, n_components=10**3)),\n",
    "                         (\"svm\", svm.LinearSVC())])\n",
    "test_classifier(mod, 20000)"
   ]
  },
  {
   "cell_type": "code",
   "execution_count": null,
   "metadata": {},
   "outputs": [],
   "source": [
    "mod = Pipeline([(\"feature_map\", RBFSampler(gamma=0.001, n_components=10**4)),\n",
    "                         (\"svm\", svm.LinearSVC())])\n",
    "test_classifier(mod, 20000)"
   ]
  },
  {
   "cell_type": "code",
   "execution_count": null,
   "metadata": {},
   "outputs": [],
   "source": [
    "# What are the results if we use SGD to optimize the parameter of the linear SVM?\n",
    "mod = Pipeline([(\"feature_map\", RBFSampler(gamma=0.001, n_components=10**4)),\n",
    "                         (\"svm\", SGDClassifier(early_stopping=True))])\n",
    "test_classifier(mod, 20000)"
   ]
  },
  {
   "cell_type": "markdown",
   "metadata": {},
   "source": [
    "#### 50 000 examples "
   ]
  },
  {
   "cell_type": "code",
   "execution_count": null,
   "metadata": {},
   "outputs": [],
   "source": [
    "mod = Pipeline([(\"feature_map\", RBFSampler(gamma=0.001, n_components=10**3)),\n",
    "                         (\"svm\", svm.LinearSVC())])\n",
    "test_classifier(mod, 50000)"
   ]
  },
  {
   "cell_type": "code",
   "execution_count": null,
   "metadata": {},
   "outputs": [],
   "source": [
    "mod = Pipeline([(\"feature_map\", RBFSampler(gamma=0.001, n_components=10**4)),\n",
    "                         (\"svm\", svm.LinearSVC())])\n",
    "test_classifier(mod, 50000)"
   ]
  },
  {
   "cell_type": "code",
   "execution_count": null,
   "metadata": {},
   "outputs": [],
   "source": [
    "# What are the results if we use SGD to optimize the parameter of the linear SVM?\n",
    "mod = Pipeline([(\"feature_map\", RBFSampler(gamma=0.001, n_components=10**4)),\n",
    "                         (\"svm\", SGDClassifier(early_stopping=True))])\n",
    "test_classifier(mod, 50000)"
   ]
  },
  {
   "cell_type": "markdown",
   "metadata": {},
   "source": [
    "### SVM with Gaussian kernel and Nyström approximation"
   ]
  },
  {
   "cell_type": "markdown",
   "metadata": {},
   "source": [
    "#### 5 000 examples "
   ]
  },
  {
   "cell_type": "code",
   "execution_count": null,
   "metadata": {},
   "outputs": [],
   "source": [
    "mod = Pipeline([(\"feature_map\", Nystroem(gamma=0.001, n_components=10**3)),\n",
    "                         (\"svm\", svm.LinearSVC())])\n",
    "test_classifier(mod, 5000)"
   ]
  },
  {
   "cell_type": "markdown",
   "metadata": {},
   "source": [
    "#### 20 000 examples"
   ]
  },
  {
   "cell_type": "code",
   "execution_count": null,
   "metadata": {},
   "outputs": [],
   "source": [
    "mod = Pipeline([(\"feature_map\", Nystroem(gamma=0.001, n_components=10**3)),\n",
    "                         (\"svm\", svm.LinearSVC())])\n",
    "test_classifier(mod, 20000)"
   ]
  },
  {
   "cell_type": "code",
   "execution_count": null,
   "metadata": {},
   "outputs": [],
   "source": [
    "mod = Pipeline([(\"feature_map\", Nystroem(gamma=0.001, n_components=10**4)),\n",
    "                         (\"svm\", svm.LinearSVC())])\n",
    "test_classifier(mod, 20000)"
   ]
  },
  {
   "cell_type": "code",
   "execution_count": null,
   "metadata": {},
   "outputs": [],
   "source": [
    "# What are the results if we use SGD to optimize the parameter of the linear SVM?\n",
    "mod = Pipeline([(\"feature_map\", Nystroem(gamma=0.001, n_components=10**4)),\n",
    "                         (\"svm\", SGDClassifier(early_stopping=True))])\n",
    "test_classifier(mod, 20000)"
   ]
  },
  {
   "cell_type": "markdown",
   "metadata": {},
   "source": [
    "#### 50 000 examples"
   ]
  },
  {
   "cell_type": "code",
   "execution_count": null,
   "metadata": {},
   "outputs": [],
   "source": [
    "mod = Pipeline([(\"feature_map\", Nystroem(gamma=0.001, n_components=10**3)),\n",
    "                         (\"svm\", svm.LinearSVC())])\n",
    "test_classifier(mod, 50000)"
   ]
  },
  {
   "cell_type": "code",
   "execution_count": null,
   "metadata": {},
   "outputs": [],
   "source": [
    "mod = Pipeline([(\"feature_map\", Nystroem(gamma=0.001, n_components=10**4)),\n",
    "                         (\"svm\", svm.LinearSVC())])\n",
    "test_classifier(mod, 50000)"
   ]
  },
  {
   "cell_type": "code",
   "execution_count": null,
   "metadata": {},
   "outputs": [],
   "source": [
    "# What are the results if we use SGD to optimize the parameter of the linear SVM?\n",
    "mod = Pipeline([(\"feature_map\", Nystroem(gamma=0.001, n_components=10**4)),\n",
    "                         (\"svm\", SGDClassifier(early_stopping=True))])\n",
    "test_classifier(mod, 50000)"
   ]
  }
 ],
 "metadata": {
  "jupytext": {
   "encoding": "# -*- coding: utf-8 -*-",
   "formats": "ipynb,py:percent"
  },
  "kernelspec": {
   "display_name": "Python 3",
   "language": "python",
   "name": "python3"
  },
  "language_info": {
   "codemirror_mode": {
    "name": "ipython",
    "version": 3
   },
   "file_extension": ".py",
   "mimetype": "text/x-python",
   "name": "python",
   "nbconvert_exporter": "python",
   "pygments_lexer": "ipython3",
   "version": "3.9.2"
  },
  "vscode": {
   "interpreter": {
    "hash": "31f2aee4e71d21fbe5cf8b01ff0e069b9275f58929596ceb00d14d90e3e16cd6"
   }
  }
 },
 "nbformat": 4,
 "nbformat_minor": 4
}
